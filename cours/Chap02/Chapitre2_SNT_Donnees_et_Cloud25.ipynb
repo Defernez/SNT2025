{
 "cells": [
  {
   "cell_type": "markdown",
   "id": "b83879e4",
   "metadata": {},
   "source": [
    "<h1>Chapitre 2</h1>\n",
    "<h2><mark>SNT: Les données et le Cloud computing</mark></h2>"
   ]
  },
  {
   "cell_type": "code",
   "execution_count": null,
   "id": "37f7769b",
   "metadata": {},
   "outputs": [],
   "source": [
    "# Nom :\n",
    "# Prénom :"
   ]
  },
  {
   "cell_type": "markdown",
   "id": "bba66028",
   "metadata": {},
   "source": [
    "<b>1.Histoire :"
   ]
  },
  {
   "cell_type": "markdown",
   "id": "ad2e74ac",
   "metadata": {},
   "source": [
    "En 1725, le Français Basile Bouchon découvre un système à base de rubans\n",
    "perforés afin d'automatiser un métier à tisser. Les mouvements sont en fonction\n",
    "de la présence de trous.Cette invention est perfectionnée en 1728 par son\n",
    "assistant, Jean-Baptiste Falcon, qui utilise une série de cartes perforées reliées\n",
    "entre elles.Elle est ensuite reprise en 1801 par Joseph Marie Jacquard, et\n",
    "devient célèbre avec le métier Jacquard. Ces cartes sont les premier support de\n",
    "stockage de données. On peut dire qu'elle stocke des informations binaires avec\n",
    "ou sans trou, zéro ou un, vrai ou faux."
   ]
  },
  {
   "cell_type": "markdown",
   "id": "3d0d5d41",
   "metadata": {},
   "source": [
    "![img](https://tse4.mm.bing.net/th?id=OIP.uW70-_n0ogC1Iy6BvTVajwHaDa&pid=Api&P=0&h=180)"
   ]
  },
  {
   "cell_type": "code",
   "execution_count": null,
   "id": "75f964fe",
   "metadata": {},
   "outputs": [],
   "source": [
    "def cartes_perforées(perforations):\n",
    "    \"\"\"Décode une carte perforée en fonction de ses trous\"\"\"\n",
    "    for trou in perforations :\n",
    "        if trou == 1 :\n",
    "            print (\"un seul trou : arrêt de la machine\")\n",
    "        elif trou == 2 : \n",
    "            print (\"passer le fil dans la maille verticale\")\n",
    "        elif trou == 3 : \n",
    "            print (\"passer le fil dans la maille horizontale\")\n",
    "        elif trou == 4 : \n",
    "            print (\"dérouler le fil\")\n",
    "        elif trou == 5 : \n",
    "            print (\"retour du chariot\")\n",
    "        elif trou == 6 : \n",
    "            print (\"couper l'étole avec la lame\")\n",
    "        elif trou == 7 : \n",
    "            print (\"croiser la maille\")\n",
    "        else :\n",
    "            print (\"ne rien faire\")\n",
    "            \n",
    "cartes_perforées([4,2,3,2,3,2,3,4,2,3,5,7,4,2,3,2,3,6,1])"
   ]
  },
  {
   "cell_type": "code",
   "execution_count": null,
   "id": "d89062ec",
   "metadata": {},
   "outputs": [],
   "source": [
    "# Créez ci dessous votre propre carte perforée\n",
    "cartes_perforées([???])"
   ]
  },
  {
   "cell_type": "markdown",
   "id": "a28acdda",
   "metadata": {},
   "source": [
    "En 1956, l’Américain Reynold Johnson invente chez IBM le premier disque\n",
    "dur: l’IBM 350. Constitué de 50 disques de 610mm de diamètre, il contient\n",
    "jusqu'à 5 MO de données. Il est très lourd et grand, il peut stocker un ou deux de\n",
    "nos fichiers mp3 d'aujourd'hui par exemple."
   ]
  },
  {
   "cell_type": "markdown",
   "id": "b5b1a94e",
   "metadata": {},
   "source": [
    "![img](https://ethw.org/w/images/thumb/d/d9/Fig3-ReynoldBJohnsonIBM1952.jpg/300px-Fig3-ReynoldBJohnsonIBM1952.jpg)"
   ]
  },
  {
   "cell_type": "markdown",
   "id": "96802905",
   "metadata": {},
   "source": [
    "Vers 1960 apparaissent les premiers tableurs qui fonctionnent sur des machines\n",
    "dédiés à ce travail."
   ]
  },
  {
   "cell_type": "code",
   "execution_count": null,
   "id": "7ed2bcf7",
   "metadata": {},
   "outputs": [],
   "source": [
    "#Pour afficher visuelement le carriage return line feed, nous allons le remplacer par: dollard $\n",
    "def comma_separated_value(chaine_separee_virgule):\n",
    "    \"\"\"sépare les données ayant pour délimiteur une virgule et le dollard délimite la fin de la ligne\"\"\"\n",
    "    liste = [] # on stoque les données organisées dans une liste de listes\n",
    "    listetempo = []\n",
    "    donnee_temporaire = \"\"\n",
    "    for char in chaine_separee_virgule :\n",
    "        if char == \",\":\n",
    "            listetempo.append(donnee_temporaire) # on stoque la donnée\n",
    "            donnee_temporaire = \"\" # On vide la variable temporaire\n",
    "        elif char == \"$\":\n",
    "            liste.append(listetempo.copy()) # si on ne fait pas de copie, on perd les données par effet de bord\n",
    "            listetempo.clear() # on vide la liste\n",
    "        else:\n",
    "            donnee_temporaire = donnee_temporaire + char # on ajoute chaque caractères (concaténatio\n",
    "    return liste\n",
    "\n",
    "\n",
    "print (comma_separated_value(\"nom , prenom ,$ Defernez , Marc ,$ Pokora , Mat ,$ Lupin , Arsenne ,$\"))"
   ]
  },
  {
   "cell_type": "code",
   "execution_count": null,
   "id": "e78862a0",
   "metadata": {},
   "outputs": [],
   "source": [
    "# Mettez en application la fonction comma_separated_value(chaine_separee_virgule)\n",
    "# votre code ici"
   ]
  },
  {
   "cell_type": "markdown",
   "id": "b4a9937e",
   "metadata": {},
   "source": [
    "Vers 1970, les supports de stockage se diversifies et les quantité de\n",
    "données augmentent considérablement. C'est alors que l’Anglais Edgar Codd met au\n",
    "point en 1970 le modèle relationnel : une représentation logique et rationnelle des\n",
    "données qui permet de retrouver facilement des données qui sont alors organisées."
   ]
  },
  {
   "cell_type": "markdown",
   "id": "bb18906a",
   "metadata": {},
   "source": [
    "![img](https://tse3.mm.bing.net/th?id=OIP.jGbt1JZqnNLhdc2gWoiQcwHaG_&pid=Api&P=0&h=180)"
   ]
  },
  {
   "cell_type": "markdown",
   "id": "cdcfaa13",
   "metadata": {},
   "source": [
    "En 1979, on utilise le tableur Visicalc qui est le premier à fonctionner sur un\n",
    "ordinateur individuel: l'Apple II. Il s'impose rapidement dans les entreprises et\n",
    "notamment en comptabilité. Cette application transforma les\n",
    "machines d'Apple en véritables outils de production et donna\n",
    "de nombreuses idées à Lotus, IBM et à Microsoft avec Excel\n",
    "par exemple."
   ]
  },
  {
   "cell_type": "markdown",
   "id": "f0a4ce47",
   "metadata": {},
   "source": [
    "En 1984, le Japonais Fujio Masuoka invente la mémoire flash. Elle est mise\n",
    "commercialisée par Toshiba. Ce type de mémoire rapide et sans pièce mécanique\n",
    "est utilisé dans les clefs USB, les appareils photos, etc… et remplace\n",
    "progressivement les disques durs."
   ]
  },
  {
   "cell_type": "markdown",
   "id": "ae502aed",
   "metadata": {},
   "source": [
    "En 2009, le président Obama lance l’Open Government Initiative dans le but de\n",
    "rendre l’Etat américain plus transparent. En 2013, le G8 signe une charte dans\n",
    "ce sens.L’OpenData prône le libre accès des données. Toutes les données ne sont\n",
    "pas librement accessibles, mais seulement certaines, et le flux peut diminuer si\n",
    "ceux qui les génèrent estiment certains sujets trop sensible"
   ]
  },
  {
   "cell_type": "markdown",
   "id": "b7e5439b",
   "metadata": {},
   "source": [
    "En 1961,John Mc Carthy propose l'idée que l'on puisse accéder à des services à partir de\n",
    "terminaux. Les principes sous-jacents au cloud computing remontent aux années 1950,\n",
    "les utilisateurs accédaient depuis leurs terminaux à des applications fonctionnant sur des\n",
    "systèmes centraux partagés (les mainframes), ancêtres des serveurs du cloud."
   ]
  },
  {
   "cell_type": "markdown",
   "id": "50874a87",
   "metadata": {},
   "source": [
    "<b>2. Nos données personnelles :"
   ]
  },
  {
   "cell_type": "markdown",
   "id": "e9e408e3",
   "metadata": {},
   "source": [
    "![img](https://help.iubenda.com/wp-content/uploads/2023/03/manual-configuration-GDPR-FR-1.gif)"
   ]
  },
  {
   "cell_type": "markdown",
   "id": "a4e96d43",
   "metadata": {},
   "source": [
    "![img](https://media.lesechos.com/api/v1/images/view/5e1da2c28fe56f23017f0d76/1280x720/0602568179629-web-tete.jpg)"
   ]
  },
  {
   "cell_type": "markdown",
   "id": "901270b6",
   "metadata": {},
   "source": [
    "<h2>Pourquoi nous pose-t-on toutes ces questions ?<br><b>\n",
    "À vous de répondre :"
   ]
  },
  {
   "cell_type": "code",
   "execution_count": null,
   "id": "8df0d536",
   "metadata": {},
   "outputs": [],
   "source": [
    "#################################\n",
    "# C'est ici que vous expliquez  #\n",
    "#################################\n",
    "#\n",
    "#\n",
    "#"
   ]
  },
  {
   "cell_type": "markdown",
   "id": "2c6eb3aa",
   "metadata": {},
   "source": [
    "<b>Qu’est-ce-qu’une donnée personnelle ?"
   ]
  },
  {
   "cell_type": "markdown",
   "id": "b1089a39",
   "metadata": {},
   "source": [
    "https://www.cnil.fr/fr/definition/donnee-personnelle<br>\n",
    "Une donnée personnelle est toute information se rapportant à une\n",
    "personne physique identifiée ou identifiable. Mais, parce qu’elles\n",
    "concernent des personnes, celles-ci doivent en conserver la maîtrise.\n",
    "Une personne physique peut être identifiée :\n",
    "directement (exemple : nom et prénom) ,\n",
    "indirectement (exemple : par un numéro de téléphone ou de plaque d’immatriculation, un\n",
    "identifiant tel que le numéro de sécurité sociale, une adresse postale ou courriel, mais aussi\n",
    "la voix ou l’image).\n",
    "L’identification d’une personne physique peut être réalisée :\n",
    "à partir d’une seule donnée (exemple : nom)\n",
    "à partir du croisement d’un ensemble de données (exemple : une femme vivant à telle\n",
    "adresse, née tel jour et membre dans telle association)"
   ]
  },
  {
   "cell_type": "markdown",
   "id": "eb9303fe",
   "metadata": {},
   "source": [
    "![img](https://www.acipartners.fr/wp-content/uploads/2021/04/image_2021-04-12_094750.png)"
   ]
  },
  {
   "cell_type": "markdown",
   "id": "aa02d6da",
   "metadata": {},
   "source": [
    "<b>3. La collecte de données et les données ouvertes:</b>\n",
    "https://www.youtube.com/watch?v=aHxv_2BMJfw"
   ]
  },
  {
   "cell_type": "markdown",
   "id": "40ba035b",
   "metadata": {},
   "source": [
    "<b>Regarder la vidéo et répondre :"
   ]
  },
  {
   "cell_type": "code",
   "execution_count": null,
   "id": "546239a0",
   "metadata": {},
   "outputs": [],
   "source": [
    "# A quoi l’open data sert-il ?\n",
    "\n",
    "# La mise à disposition des données publiques est-elle obligatoire ?\n",
    "\n",
    "# Quelles sont les données exclues de cette diffusion ?\n",
    "\n",
    "# Qui utilisent ces données ?\n",
    "\n",
    "# A quoi l’open data a-t-il ouvert la voie ?\n",
    "\n",
    "# Quelle est la licence de cette vidéo ?\n"
   ]
  },
  {
   "cell_type": "code",
   "execution_count": null,
   "id": "f25c48de",
   "metadata": {},
   "outputs": [],
   "source": [
    "Une donnée est une valeur attribuée à une entité pour la décrire. Il peut s’agir d’un objet, d’une personne, d’un\n",
    "événement ou par exemple d’un numéro de téléphone. L’information est l’interprétation que l’on fait d’une donnée.\n",
    "Les données peuvent être renseignées par un humain, comme lorsque nous nous inscrivons sur un site qui nous incite à\n",
    "renseigner nos données personnelles pour créer un compte. Les données peuvent aussi être capturées et enregistrées par\n",
    "un dispositif matériel, comme les caméras de surveillance à reconnaissance faciale."
   ]
  },
  {
   "cell_type": "markdown",
   "id": "1ebce846",
   "metadata": {},
   "source": [
    "![img](https://www.breakflip.com/uploads/Drui/2020/Mai/GTA/creer-un-compte-epic-games.png)"
   ]
  },
  {
   "cell_type": "markdown",
   "id": "5fb1e73d",
   "metadata": {},
   "source": [
    "<b>à faire : </b>compléter et tester l'algorithme suivant :"
   ]
  },
  {
   "cell_type": "code",
   "execution_count": null,
   "id": "e3852a5f",
   "metadata": {},
   "outputs": [],
   "source": [
    "# Bien sûr, dans le cadre de l'exercice, veuillez ne pas divulguer la vérité...\n",
    "nom = str(input(\"entrer votre nom ?\"))\n",
    "jour = int(input(\"entrer votre jour de naissance ?\"))\n",
    "mois = int(input(\"entrer votre mois de naissance ?\"))\n",
    "annee = int(input(\"entrer votre année de naissance ?\"))\n",
    "aime = str(input(\"aimez-vous les voitures ?\"))\n",
    "couleur = str(input(\"quelle est votre couleur préférée ?\"))\n",
    "genre = str(input(\"quelle est votre genre (fille, garçon, autre) ?\"))\n",
    "politique =  str(input(\"pour qui aimeriez vous voter ?\"))\n",
    "sport =  str(input(\"faites-vous du sport ?\"))\n",
    "operation = str(input(\"avez-vous déjà subit une operation chirurgicale ?\")) \n",
    "maladie = str(input(\"êtes vous malade ?\"))\n",
    "micro = str(input(\"pouvez-vous répèter ce que vous a dit la personne à côté de vous ?\"))\n",
    "gps = str(input(\"où êtes-vous là (position gps) ?\"))\n",
    "gps2 = str(input(\"et là, où êtes-vous (position gps) ?\"))\n",
    "gps3 = str(input(\"sinon, où êtes-vous là (position gps) ?\"))\n",
    "\n",
    "# la RGPD passe par là ...\n",
    "nom = \"\"\n",
    "jour = 0\n",
    "mois = 0\n",
    "annee = 0\n",
    "# Vous avez bien paramétré vos consentements :\n",
    "aime = couleur = genre = politique = sport = operation = maladie = micro = gps = gps2 = gps3 = \"\"\n",
    "print (\"\")\n",
    "print (\"\")\n",
    "print (\"\")\n",
    "print (\"Voici comment vos données personnelles devraient être gérées selon le RGPD : \")\n",
    "print(\"nom = \" + nom) \n",
    "print(\"jour = \" + str(jour))\n",
    "print(\"mois = \" + str(mois))\n",
    "print(\"annee = \" + str(annee))\n",
    "print(\"politique = \" + politique)\n",
    "print(\"micro = \" + micro)\n",
    "print(\"gps = \" + gps)\n",
    "print(\"\")\n",
    "print(\"Si ce n'est pas le cas, la CNIL est là pour vous proteger, mais à vous de bien paramètrer vos cookies\")\n"
   ]
  },
  {
   "cell_type": "code",
   "execution_count": null,
   "id": "bb184ded",
   "metadata": {},
   "outputs": [],
   "source": [
    "# Donner 5 exemples de données personnelles :"
   ]
  },
  {
   "cell_type": "code",
   "execution_count": null,
   "id": "b380f65a",
   "metadata": {},
   "outputs": [],
   "source": [
    "# Donner 5 exemples de données non personnelles :"
   ]
  },
  {
   "cell_type": "markdown",
   "id": "5e2e6980",
   "metadata": {},
   "source": [
    "<b>4. Les métadonnées d’un fichier personnel :"
   ]
  },
  {
   "cell_type": "markdown",
   "id": "afb0cb77",
   "metadata": {},
   "source": [
    "Une métadonnée est une donnée particulière qui donne des informations sur la donnée principale, comme le titre d’une\n",
    "vidéo. Les données personnelles sont souvent associées à de nombreuses métadonnées qui donnent davantage\n",
    "d’informations sur le fichier principal et sur leur propriétaire. Ces métadonnées varient selon le type de fichier qu’elles\n",
    "décrivent."
   ]
  },
  {
   "cell_type": "markdown",
   "id": "9a8c140a",
   "metadata": {},
   "source": [
    "![img](https://www.malekal.com/wp-content/uploads/exiftool-afficher-metadonnees.jpg)"
   ]
  },
  {
   "cell_type": "markdown",
   "id": "e84d95c2",
   "metadata": {},
   "source": [
    "<b> Chemin où trouver le fichier sample.jpg : <br></b>\n",
    "https://github.com/Defernez/NSI/blob/main/%3CSNT%3E/%20LesDonneesStructureesEtLeurTraitement/sample.jpg"
   ]
  },
  {
   "cell_type": "code",
   "execution_count": null,
   "id": "84985b7e",
   "metadata": {},
   "outputs": [],
   "source": [
    "pip install PILLOW"
   ]
  },
  {
   "cell_type": "code",
   "execution_count": null,
   "id": "8745748e",
   "metadata": {},
   "outputs": [],
   "source": [
    "import os\n",
    "os.getcwd()"
   ]
  },
  {
   "cell_type": "code",
   "execution_count": null,
   "id": "5b43f4d2",
   "metadata": {},
   "outputs": [],
   "source": [
    "from PIL import Image, ExifTags\n",
    "\n",
    "img = Image.open(\"sample.jpg\")\n",
    "img_exif = img.getexif()\n",
    "\n",
    "\n",
    "if img_exif is None:\n",
    "    print('Aucune donnée exif dans cette photo.')\n",
    "else:\n",
    "    for key, val in img_exif.items():\n",
    "        if key in ExifTags.TAGS:\n",
    "            print(f'{ExifTags.TAGS[key]}:{val}')\n",
    "        else :\n",
    "            print(val)\n",
    "            \n"
   ]
  },
  {
   "cell_type": "code",
   "execution_count": null,
   "id": "54314795",
   "metadata": {},
   "outputs": [],
   "source": [
    "from PIL import Image\n",
    "from PIL.ExifTags import TAGS, GPSTAGS\n",
    "\n",
    "def get_gps_coordinates(image_file_path):\n",
    "     try:\n",
    "             image = Image.open(image_file_path)\n",
    "             exif_data = image._getexif()\n",
    "             \n",
    "             if not exif_data:\n",
    "                     return \"Aucune donnée EXIF trouvée.\"\n",
    "\n",
    "             gps_info = None\n",
    "             for tag, value in exif_data.items():\n",
    "                     if TAGS.get(tag) == 'GPSInfo':\n",
    "                             gps_info = value\n",
    "                             break\n",
    "             \n",
    "             if gps_info is None:\n",
    "                     return \"Aucune information GPS trouvée.\"\n",
    "\n",
    "             # Convertir les coordonnées GPS\n",
    "             latitude = gps_info[2]  # Latitude\n",
    "             longitude = gps_info[4]  # Longitude\n",
    "             \n",
    "             # Convertir les coordonnées en format décimal\n",
    "             lat = float(latitude[0] + latitude[1] / 60 + latitude[2] / 3600)\n",
    "             lon = float(longitude[0] + longitude[1] / 60 + longitude[2] / 3600)\n",
    "             \n",
    "             # Vérifier la direction\n",
    "             if gps_info[3] == 'S':\n",
    "                     lat = -lat\n",
    "             if gps_info[1] == 'W':\n",
    "                     lon = -lon\n",
    "             \n",
    "             return (lat, lon)\n",
    "\n",
    "     except Exception as e:\n",
    "             return f\"Erreur : {e}\"\n",
    "\n",
    "# Exemple d'utilisation\n",
    "coordinates = get_gps_coordinates(\"sample.jpg\")\n",
    "print(\"Les coordonnées sont: \" + str(coordinates))"
   ]
  },
  {
   "cell_type": "code",
   "execution_count": null,
   "id": "b8366bd4",
   "metadata": {},
   "outputs": [],
   "source": []
  },
  {
   "cell_type": "markdown",
   "id": "11d4bf48",
   "metadata": {},
   "source": [
    "<b>à faire: </b><i>répondre aux questions"
   ]
  },
  {
   "cell_type": "code",
   "execution_count": null,
   "id": "9de7b90d",
   "metadata": {},
   "outputs": [],
   "source": [
    "# quelle est la marque de l'appareil ?\n",
    "# quel est le modèle de l'appareil ?\n",
    "# Peut-on obtenir la postion gps ?\n",
    "# Quand la photo est-elle prise ?"
   ]
  },
  {
   "cell_type": "markdown",
   "id": "39992333",
   "metadata": {},
   "source": [
    "<b>5.Le Big Data :</b><br>\n",
    "https://youtu.be/5otaBKsz7k4"
   ]
  },
  {
   "cell_type": "markdown",
   "id": "dbba88e7",
   "metadata": {},
   "source": [
    "Le big Data (les données\n",
    "massives) met en commun une\n",
    "énorme quantité de données\n",
    "récoltées dans le monde. Ces\n",
    "données ont des caractéristiques\n",
    "appelées « dimensions du Big\n",
    "Data »."
   ]
  },
  {
   "cell_type": "markdown",
   "id": "ab18ca96",
   "metadata": {},
   "source": [
    "![img](https://prd-hbr-website-statics.s3.eu-west-1.amazonaws.com/content/uploads/2014/05/bigdata.jpg)"
   ]
  },
  {
   "cell_type": "markdown",
   "id": "93e06d97",
   "metadata": {},
   "source": [
    "<b>source : </b><i>https://www.hbrfrance.fr"
   ]
  },
  {
   "cell_type": "markdown",
   "id": "fb32174e",
   "metadata": {},
   "source": [
    "<b>Quelques chiffres :</b><br>\n",
    "En 2020, 90 % des données auraient été produites depuis 2017 (selon IBM*),<br>\n",
    "chaque personne sur Terre génère 1,7 Mo de données par seconde en 2020 (selon IDC*),<br>\n",
    "Twitter produit 7 To par jour (**),<br>\n",
    "Facebook produit 500 To par jour (**),<br>\n",
    "le Radio télescope Murchison Widefield Array (Australie) produit 7 000 To de données brutes par minute (**),<br>\n",
    "à titre de comparaison : la Bibliothèque Nationale de France contiendrait 14 To (livres, imprimés).<br>\n",
    "* d’après le site https://www.lebigdata.fr/chiffres-big-data<br>\n",
    "** d’après Jean-Gabriel Ganascia, conférence « Des Big Data aux Big Brothers »."
   ]
  },
  {
   "cell_type": "markdown",
   "id": "dcfa03aa",
   "metadata": {},
   "source": [
    "<b>6. La Réglementation :</b><br><br>\n",
    "Tous les États membres de l'Union européenne\n",
    "sont dotés d'une loi Informatique et libertés et\n",
    "d'une autorité nationale de protection des données\n",
    "personnelles. Les données sont protégées par la\n",
    "loi Informatique, fichiers et libertés et par le\n",
    "<b>Réglement Général sur La Protection des\n",
    "Données entré en vigueur en mai 2018</b>\n",
    "(européen). En France la <b>Commission Nationale\n",
    "de l'Informatique et des Libertés</b> créée en 1978\n",
    "veille à ce que l’informatique ne porte atteinte ni\n",
    "à l'identité humaine, ni aux droits de l'homme, ni\n",
    "à la vie privée et ni aux libertés individuelles ou\n",
    "publiques."
   ]
  },
  {
   "cell_type": "markdown",
   "id": "ff7357c1",
   "metadata": {},
   "source": [
    "![img](https://www.cnil.fr/sites/cnil/files/styles/contenu_generique_visuel/public/thumbnails/image/notion_cles_0.jpg)"
   ]
  },
  {
   "cell_type": "markdown",
   "id": "fd2c673d",
   "metadata": {},
   "source": [
    "<b><i><u>Vidéos :"
   ]
  },
  {
   "cell_type": "markdown",
   "id": "218772cf",
   "metadata": {},
   "source": [
    "https://www.cnil.fr/fr/reglement-europeen-protection-donnees <br>\n",
    "https://www.youtube.com/watch?v=u4M5lVYv3UI"
   ]
  },
  {
   "cell_type": "markdown",
   "id": "fe277ba2",
   "metadata": {},
   "source": [
    "<b>7. Les formats de fichiers :</b><br>\n",
    "Pour assurer leur persistance et leurs échanges, les\n",
    "données sont stockées sous différents format sous\n",
    "forme de fichier. Un format de données est un mode\n",
    "d’organisation des données qui les rendent lisibles,\n",
    "faciles à mettre à jour, échangeable et pérennes."
   ]
  },
  {
   "cell_type": "markdown",
   "id": "4737eb49",
   "metadata": {},
   "source": [
    "<b>à faire : <b>Expliquez si le fichier est un fichier textuel ou pas"
   ]
  },
  {
   "cell_type": "markdown",
   "id": "e68d15b6",
   "metadata": {},
   "source": [
    "![img](https://www.portices.fr/wp-content/uploads/2020/03/extensions-fichiers.jpg)"
   ]
  },
  {
   "cell_type": "markdown",
   "id": "42f85a1c",
   "metadata": {},
   "source": [
    "<I>source : https://pixers.fr"
   ]
  },
  {
   "cell_type": "code",
   "execution_count": null,
   "id": "b88eece2",
   "metadata": {},
   "outputs": [],
   "source": [
    "# Répondre ici\n",
    "\n",
    "# XLS\n",
    "\n",
    "# DOC\n",
    "\n",
    "# JPG\n",
    "\n",
    "# PDF\n",
    "\n",
    "# ZIP\n",
    "\n",
    "# CSS\n",
    "\n",
    "# MP3\n",
    "\n",
    "# AVI\n",
    "\n",
    "# TXT\n",
    "\n",
    "# PPT\n",
    "\n",
    "# HTML\n",
    "\n",
    "# GIF"
   ]
  },
  {
   "cell_type": "markdown",
   "id": "12ccded3",
   "metadata": {},
   "source": [
    "<b>8. Les caractéristiques des données structurées :</b><br>\n",
    "Pour retrouver et traiter des données facilement, on les organise sous forme d’un tableau appelé <b>table de données</b>. Une\n",
    "<b>collection</b> regroupe des <b>objets</b> partageant les mêmes <b>descripteurs</b>. Un objet est donné par la liste des valeurs de tous\n",
    "ses descripteurs. Les données sont alors dites « structurées »"
   ]
  },
  {
   "cell_type": "markdown",
   "id": "8d21ba6e",
   "metadata": {},
   "source": [
    "![img](http://gregbill.synology.me/Opale/Th%C3%A8me%201%20-%20Les%20donn%C3%A9es%20structur%C3%A9es%20et%20leur%20traitement/res/donneesstructure_1.jpg)"
   ]
  },
  {
   "cell_type": "markdown",
   "id": "7521d41b",
   "metadata": {},
   "source": [
    "<b>9. Les réprésentations des données. </b><br>\n",
    "Le choix de la structure de données est essentiel pour retrouver les informations. Ainsi, selon les éléments que l'on souhaite mettre en avant, on choisira certains descripteurs plutôt que d'autres. Une même donnée peut donc être représentée dans différentes tables et de différentes manières."
   ]
  },
  {
   "cell_type": "markdown",
   "id": "61f34582",
   "metadata": {},
   "source": [
    "<b>10. Les formats de données :"
   ]
  },
  {
   "cell_type": "markdown",
   "id": "577bd706",
   "metadata": {},
   "source": [
    "* CSV : comma separated values\n",
    "* XML : extensible markup langage\n",
    "* JSON : javascript objet notation"
   ]
  },
  {
   "cell_type": "code",
   "execution_count": null,
   "id": "5432c468",
   "metadata": {},
   "outputs": [],
   "source": [
    "csv = \"Nom , Prénom , Sport \\n Defernez , Marc , Handball \\n Dupont , Louis , Football , \\n , Fofanne , Abdoulaye , Football \\n Kalla , Aïda , Handball\"\n",
    "print (csv)"
   ]
  },
  {
   "cell_type": "code",
   "execution_count": null,
   "id": "310f9c29",
   "metadata": {},
   "outputs": [],
   "source": [
    "# à faire créer votre propre csv"
   ]
  },
  {
   "cell_type": "markdown",
   "id": "482c6e10",
   "metadata": {},
   "source": [
    "Le fichier csv est très simple à mettre en oeuvre, il suffit d'indiquer les Descripteurs une seule fois au début du fichier, puis de passer à la ligne suivante. Chaque ligne pourra alors contenir un objet composé de données séparés par une virgule ou un point virgule. Le fichier csv est ordonné, pour accèder à une donnée particulière, il faut parcourir toutes les lignes et s'arrêter seulement une fois la donnée identifiée. Si la donnée n'existe pas il faudra parcourir tout le fichier pour le savoir et ça peut être long."
   ]
  },
  {
   "cell_type": "code",
   "execution_count": null,
   "id": "828bcb3d",
   "metadata": {},
   "outputs": [],
   "source": [
    "XML = \"\"\" \n",
    "<article xmlns=\"http://docbook.org/ns/docbook\">\n",
    "    <title>Extensible Markup Language</title>\n",
    "    <para>\n",
    "        <acronym>XML</acronym> (Extensible Markup Language, « langage de\n",
    "balisage extensible »)…\n",
    "    </para>\n",
    "</article>\n",
    "\"\"\"\n",
    "\n",
    "print (XML)"
   ]
  },
  {
   "cell_type": "code",
   "execution_count": null,
   "id": "cf6d106b",
   "metadata": {},
   "outputs": [],
   "source": [
    "# à faire créer votre propre xml"
   ]
  },
  {
   "cell_type": "markdown",
   "id": "976d484d",
   "metadata": {},
   "source": [
    "Le fichier XML utilise des balises comme le langage HTML que nous verrons plus tard dans l'année. Ces balises encadrent les données et permet un repérage rapide et il offre aussi une exélent lisibilité. Ce type d'écriture prend beaucoup plus de place que le fichier CSV, mais en utlisant certains algorithmes la recherche de données est plus efficace. Le XML est rigide et long à écrire, de plus, on doit écrire tous les descripteurs. On peut par exemple utiliser ce format pour rédiger des fichiers de configuration."
   ]
  },
  {
   "cell_type": "code",
   "execution_count": null,
   "id": "bcd316d4",
   "metadata": {},
   "outputs": [],
   "source": [
    "json = \"\"\"{ \n",
    "{ \n",
    " \t'nom' : 'Defernez' ,\n",
    "\t'prenom' : 'Marc' ,\n",
    "\t'adresse' : '5, rue du fort 59000 Lille'\n",
    "} ,\n",
    "{ \n",
    "\t'nom' : 'Dupont' ,\n",
    "\t'prenom' : 'Louis' ,\n",
    "\t'adresse' : '15, route de Mons 59000 Lille'\n",
    "} ,\n",
    "{ \n",
    "\t'nom' : 'Fofanne' ,\n",
    "\t'prenom' : 'Abdoulaye' ,\n",
    "\t'adresse' : '96, rue de Gand 59000 Lille'\n",
    "}\n",
    "}on = { \n",
    "{ \n",
    " \t'nom' : 'Defernez' ,\n",
    "\t'prenom' : 'Marc' ,\n",
    "\t'adresse' : '5, rue du fort 59000 Lille'\n",
    "} ,\n",
    "{ \n",
    "\t'nom' : 'Dupont' ,\n",
    "\t'prenom' : 'Louis' ,\n",
    "\t'adresse' : '15, route de Mons 59000 Lille'\n",
    "} ,\n",
    "{ \n",
    "\t'nom' : 'Fofanne' ,\n",
    "\t'prenom' : 'Abdoulaye' ,\n",
    "\t'adresse' : '96, rue de Gand 59000 Lille'\n",
    "}\n",
    "}\"\"\"\n",
    "\n",
    "json"
   ]
  },
  {
   "cell_type": "code",
   "execution_count": null,
   "id": "24f3802a",
   "metadata": {},
   "outputs": [],
   "source": [
    "# à faire créer votre propre json"
   ]
  },
  {
   "cell_type": "markdown",
   "id": "dcb10dc0",
   "metadata": {},
   "source": [
    "Le Json est un format très à la mode pour échanger des informations. Moins long à rédiger que le XML, mais beaucoup gros que le csv."
   ]
  },
  {
   "cell_type": "markdown",
   "id": "13257692",
   "metadata": {},
   "source": [
    "<b>11. Le langage Structured Query Language :</b><br>\n",
    "le SQL est un Langage d'interrogation structuré qui permet de\n",
    "dialoguer avec une base de données.\n",
    "Une base de données (BDD) est une collection d’informations\n",
    "organisées afin d’être facilement consultables, gérables et mises à\n",
    "jour. Par exemple, un répertoire téléphonique est l’équivalent d’un\n",
    "fichier. Il contient un ensemble d’enregistrements, et chaque\n",
    "enregistrement regroupe trois champs : nom, adresse et numéro de\n",
    "téléphone. En guise d’exemple, on peut aussi citer les catalogues de\n",
    "produits ou les inventaires."
   ]
  },
  {
   "cell_type": "markdown",
   "id": "f0801748",
   "metadata": {},
   "source": [
    "![img](https://info.blaisepascal.fr/wp-content/uploads/2020/10/Structure-dune-instruction-SQL.png)"
   ]
  },
  {
   "cell_type": "markdown",
   "id": "0c3d2d32",
   "metadata": {},
   "source": [
    "<i>source: https://info.blaisepascal.fr"
   ]
  },
  {
   "cell_type": "markdown",
   "id": "3621f8c5",
   "metadata": {},
   "source": [
    "<b>12. Les données dans le cloud :"
   ]
  },
  {
   "cell_type": "markdown",
   "id": "6be45fa7",
   "metadata": {},
   "source": [
    "Lorque vous vous connectez à L'ENT du Lycée, vous accèdez à vos données qui sont stockées sur un serveur qui est soit physiquement présent dans un local technique au lycée ou soit dans un data center quelque part en France. Le fait de pouvoir retrouver des données en ligne à partir de plusieurs ordinateurs de nature différente (smarphones, tablettes, ordinateur portable ou de bureau) c'est ce que l'on appelle le cloud."
   ]
  },
  {
   "cell_type": "markdown",
   "id": "4e635c7a",
   "metadata": {},
   "source": [
    "Le cloud computing est un espace informatique de stockage de données, sur Internet, fourni par des grandes entreprises\n",
    "du secteur informatique. L’espace de stockage peut varier et être gratuit ou payant. Il est accessible via Internet, depuis\n",
    "un ordinateur, une tablette ou un téléphone, n’importe où dans le monde. Il est possible de créer son propre cloud\n",
    "(exemple owncloud) chez soi, mais il faut laisser un ordinateur allumé pour y accèder, des machines toute-en-une\n",
    "existe."
   ]
  },
  {
   "cell_type": "markdown",
   "id": "05678462",
   "metadata": {},
   "source": [
    "https://www.20minutes.fr/paris/2068527-20170516-data-center-chauffe-eau-piscine-paris-27"
   ]
  },
  {
   "cell_type": "markdown",
   "id": "d6afcadf",
   "metadata": {},
   "source": [
    "Les data centers (ou centres de données) sont les lieux\n",
    "physiques (pièce, bâtiment) de stockage des données du\n",
    "cloud. Les quantités de données stockées sont importantes.\n",
    "L’équipement informatique de ces centres de données\n",
    "comporte des serveurs par milliers installés dans des baies de\n",
    "stockage immenses. Elles fonctionnent en permanence et\n",
    "sont connectés sur internet.Leur consommation énergétique\n",
    "est importante, le coût de l’électricité représentant près de 30\n",
    "% des coûts d’exploitation des centres, dont 30 à 60 %\n",
    "utilisés pour le refroidissement des serveurs. La chaleur\n",
    "générée est si importante (4 % de la consommation énergétique mondiale en 2015) qu’ils nécessitent d’être refroidis par\n",
    "des systèmes de climatisation. Ce sont de véritables gouffres énergétiques.\n",
    "Il existe des possibilités de récupérer l’énergie perdue par les Data Centers. Par exemple à Paris,un système de\n",
    "chaudière numérique chauffe l’eau de la piscine de la Butte aux cailles. Les serveurs sont installés au sous-sol et leur\n",
    "système de refroidissement transfère de la chaleur dans les bassins, intérieur et extérieur, ce qui maintient l’eau à 27°C,\n",
    "et permet également de réaliser une économie de 45 tonnes de CO2 par an."
   ]
  },
  {
   "cell_type": "markdown",
   "id": "2dd67890",
   "metadata": {},
   "source": [
    "![img](https://www.batiactu.com/images/auto/620-465-c/20141126_190217_unedeux.jpg)"
   ]
  },
  {
   "cell_type": "markdown",
   "id": "ba18c2f6",
   "metadata": {},
   "source": [
    "<i>source : https://www.batiactu.com"
   ]
  },
  {
   "cell_type": "markdown",
   "id": "c4836ce4",
   "metadata": {},
   "source": [
    "<h1>à rendre avec votre nom à l'adresse :</h1> "
   ]
  },
  {
   "cell_type": "markdown",
   "id": "54a72be7",
   "metadata": {},
   "source": [
    "http://travail.nsi.free.fr/snt/index.html"
   ]
  }
 ],
 "metadata": {
  "kernelspec": {
   "display_name": "Python 3 (ipykernel)",
   "language": "python",
   "name": "python3"
  },
  "language_info": {
   "codemirror_mode": {
    "name": "ipython",
    "version": 3
   },
   "file_extension": ".py",
   "mimetype": "text/x-python",
   "name": "python",
   "nbconvert_exporter": "python",
   "pygments_lexer": "ipython3",
   "version": "3.9.12"
  }
 },
 "nbformat": 4,
 "nbformat_minor": 5
}
